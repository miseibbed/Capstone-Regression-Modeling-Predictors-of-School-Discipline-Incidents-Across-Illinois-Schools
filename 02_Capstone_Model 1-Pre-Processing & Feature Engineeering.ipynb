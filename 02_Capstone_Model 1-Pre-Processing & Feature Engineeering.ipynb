{
 "cells": [
  {
   "cell_type": "markdown",
   "id": "bd284fa7-1b8a-4ccb-b8e4-0f9076e5d76f",
   "metadata": {
    "tags": []
   },
   "source": [
    "## Notebook Summary\n",
    "#### *Capstone: Pre-Processing/Feature Engineering #1*\n",
    "---\n",
    "This contents of this notebook includes the pre-processing for model #1"
   ]
  },
  {
   "cell_type": "code",
   "execution_count": 1,
   "id": "eae913e9-050a-4069-8fd5-a80b8c422b3e",
   "metadata": {},
   "outputs": [],
   "source": [
    "# import packages\n",
    "import pandas as pd\n",
    "import numpy as np\n",
    "import re\n",
    "import pickle\n",
    "from sklearn.impute import KNNImputer, SimpleImputer\n",
    "from sklearn.compose import make_column_transformer\n",
    "from sklearn.model_selection import train_test_split\n",
    "from sklearn.preprocessing import StandardScaler, OneHotEncoder, PolynomialFeatures\n",
    "\n",
    "pd.set_option('display.max_rows', None)\n",
    "# pd.set_option('max_colwidth', 150)\n",
    "\n",
    "import warnings\n",
    "warnings.filterwarnings('ignore')"
   ]
  },
  {
   "cell_type": "markdown",
   "id": "fb902404-14c4-4556-b09f-8e87dcc8d3c7",
   "metadata": {},
   "source": [
    "## Pre-Processing & Feature Engineering K-8 Dataset"
   ]
  },
  {
   "cell_type": "code",
   "execution_count": 2,
   "id": "5a5a8723-993d-4a4a-95d9-ed3bf331df57",
   "metadata": {},
   "outputs": [],
   "source": [
    "#read in datasets\n",
    "# column names which need to be string\n",
    "cols = ['rcdts', 'nces_id']\n",
    "dict_dtypes = {x: 'str' for x in cols}\n",
    "\n",
    "df_k8 = pd.read_csv('../Capstone/cleaned_datasets/pre-processing/df_k8.csv', dtype=dict_dtypes)\n",
    "df_k8.drop(columns = ['Unnamed: 0', 'latcod', 'loncod'], inplace=True)"
   ]
  },
  {
   "cell_type": "code",
   "execution_count": 3,
   "id": "032408ff-6bd1-4813-9715-d051be852dbd",
   "metadata": {},
   "outputs": [
    {
     "name": "stdout",
     "output_type": "stream",
     "text": [
      "<class 'pandas.core.frame.DataFrame'>\n",
      "RangeIndex: 9042 entries, 0 to 9041\n",
      "Data columns (total 61 columns):\n",
      " #   Column                                                          Non-Null Count  Dtype  \n",
      "---  ------                                                          --------------  -----  \n",
      " 0   rcdts                                                           9042 non-null   object \n",
      " 1   nces_id                                                         9042 non-null   object \n",
      " 2   school_year                                                     9042 non-null   object \n",
      " 3   county                                                          9042 non-null   object \n",
      " 4   district_size                                                   9032 non-null   object \n",
      " 5   summative_designation                                           8888 non-null   float64\n",
      " 6   state_senate_district                                           9042 non-null   float64\n",
      " 7   state_representative_district                                   9042 non-null   float64\n",
      " 8   charter                                                         9042 non-null   object \n",
      " 9   title_i_status                                                  9042 non-null   object \n",
      " 10  region_type                                                     9026 non-null   object \n",
      " 11  student_enrollment_total                                        9042 non-null   float64\n",
      " 12  %_student_enrollment_white                                      9042 non-null   float64\n",
      " 13  %_student_enrollment_black_or_african_american                  9042 non-null   float64\n",
      " 14  %_student_enrollment_hispanic_or_latino                         9042 non-null   float64\n",
      " 15  %_student_enrollment_asian                                      9042 non-null   float64\n",
      " 16  %_student_enrollment_native_hawaiian_or_other_pacific_islander  9042 non-null   float64\n",
      " 17  %_student_enrollment_american_indian_or_alaska_native           9042 non-null   float64\n",
      " 18  %_student_enrollment_two_or_more_races                          9042 non-null   float64\n",
      " 19  %_student_enrollment_el                                         9042 non-null   float64\n",
      " 20  %_student_enrollment_iep                                        9042 non-null   float64\n",
      " 21  %_student_enrollment_low_income                                 9042 non-null   float64\n",
      " 22  %_student_enrollment_homeless                                   9042 non-null   float64\n",
      " 23  total_number_of_school_days                                     9033 non-null   float64\n",
      " 24  student_attendance_rate                                         8964 non-null   float64\n",
      " 25  student_mobility_rate                                           9035 non-null   float64\n",
      " 26  student_mobility_rate_male                                      9023 non-null   float64\n",
      " 27  student_mobility_rate_female                                    9015 non-null   float64\n",
      " 28  student_mobility_rate_white                                     9042 non-null   float64\n",
      " 29  student_mobility_rate_black_or_african_american                 9042 non-null   float64\n",
      " 30  student_mobility_rate_hispanic_or_latino                        9042 non-null   float64\n",
      " 31  student_mobility_rate_asian                                     9042 non-null   float64\n",
      " 32  student_mobility_rate_two_or_more_races                         9042 non-null   float64\n",
      " 33  student_mobility_rate_el                                        9042 non-null   float64\n",
      " 34  student_mobility_rate_iep                                       9042 non-null   float64\n",
      " 35  student_mobility_rate_low_income                                9042 non-null   float64\n",
      " 36  chronically_truant_students                                     8955 non-null   float64\n",
      " 37  student_chronic_truancy_rate                                    8955 non-null   float64\n",
      " 38  avg_class_size_all_grades                                       8906 non-null   float64\n",
      " 39  teacher_retention_rate                                          8934 non-null   float64\n",
      " 40  principal_turnover_within_6_years                               8997 non-null   float64\n",
      " 41  chronic_absenteeism_white                                       9042 non-null   float64\n",
      " 42  chronic_absenteeism_black_or_african_american                   9042 non-null   float64\n",
      " 43  chronic_absenteeism_hispanic_or_latino                          9042 non-null   float64\n",
      " 44  chronic_absenteeism_asian                                       9042 non-null   float64\n",
      " 45  chronic_absenteeism_two_or_more_races                           9042 non-null   float64\n",
      " 46  chronic_absenteeism_iep                                         9042 non-null   float64\n",
      " 47  chronic_absenteeism_el                                          9042 non-null   float64\n",
      " 48  chronic_absenteeism_low_income                                  9042 non-null   float64\n",
      " 49  stuteratio                                                      8927 non-null   float64\n",
      " 50  fte                                                             8927 non-null   float64\n",
      " 51  inc_to_pov_ratio                                                9039 non-null   float64\n",
      " 52  %_ela_proficiency                                               8519 non-null   float64\n",
      " 53  %_ela_proficiency_low_income                                    8245 non-null   float64\n",
      " 54  %_math_proficiency                                              8519 non-null   float64\n",
      " 55  %_math_proficiency_low_income                                   8246 non-null   float64\n",
      " 56  %_local_property_taxes                                          9015 non-null   float64\n",
      " 57  %_general_state_aid                                             9015 non-null   float64\n",
      " 58  %_federal_funding                                               9015 non-null   float64\n",
      " 59  $_instructional_expenditure_per_pupil                           9015 non-null   float64\n",
      " 60  total_incidents                                                 9042 non-null   float64\n",
      "dtypes: float64(53), object(8)\n",
      "memory usage: 4.2+ MB\n"
     ]
    }
   ],
   "source": [
    "df_k8.info()"
   ]
  },
  {
   "cell_type": "code",
   "execution_count": 4,
   "id": "2d779770-0e09-4b7d-bb6a-89dd0bebdfe9",
   "metadata": {},
   "outputs": [
    {
     "data": {
      "text/plain": [
       "[None, None, None, None, None, None, None, None, None, None, None, None]"
      ]
     },
     "execution_count": 4,
     "metadata": {},
     "output_type": "execute_result"
    }
   ],
   "source": [
    "# Grouping together region_type into smaller groupings\n",
    "group = {('21-Suburb: Large', 'Suburb - Large'),\n",
    "         ('11-City: Large', 'City - Large'),\n",
    "         ('42-Rural: Distant', 'Rural'),\n",
    "         ('32-Town: Distant', 'Town'),\n",
    "         ('41-Rural: Fringe', 'Rural'),\n",
    "         ('13-City: Small', 'City - Small/Mid-Size'),\n",
    "         ('12-City: Mid-size', 'City - Small/Mid-Size'),\n",
    "         ('31-Town: Fringe', 'Town'),\n",
    "         ('23-Suburb: Small', 'Suburb - Small/Mid-Size'),\n",
    "         ('33-Town: Remote', 'Town'),\n",
    "         ('43-Rural: Remote', 'Rural'),\n",
    "         ('22-Suburb: Mid-size', 'Suburb - Small/Mid-Size')}\n",
    "\n",
    "[df_k8.replace(r[0], r[1], inplace= True) for r in group]"
   ]
  },
  {
   "cell_type": "code",
   "execution_count": 5,
   "id": "b95b7575-5250-4e9e-94f5-ccb3d9083048",
   "metadata": {},
   "outputs": [],
   "source": [
    "## Dropping 2 features\n",
    "df_k8.drop(columns=['state_senate_district', 'state_representative_district'], inplace=True)"
   ]
  },
  {
   "cell_type": "markdown",
   "id": "36fff760-d9fd-4f43-b863-c86e1fe2beff",
   "metadata": {},
   "source": [
    "### Train-Test-Split dataset"
   ]
  },
  {
   "cell_type": "code",
   "execution_count": 6,
   "id": "a282791b-0ec8-48fc-a88c-510a7aed9cb3",
   "metadata": {},
   "outputs": [],
   "source": [
    "# create X,y\n",
    "# Total Incidents - target\n",
    "\n",
    "X = df_k8.drop(columns = ['total_incidents'])\n",
    "y = df_k8[['rcdts', 'total_incidents']]"
   ]
  },
  {
   "cell_type": "code",
   "execution_count": 7,
   "id": "da7f2ba4-7c37-4f8c-b871-bc8c359d3d10",
   "metadata": {},
   "outputs": [
    {
     "name": "stdout",
     "output_type": "stream",
     "text": [
      "X_train: (6058, 58)\n",
      "y_train: (6058, 2)\n",
      "X_test: (2984, 58)\n",
      "y_test: (2984, 2)\n"
     ]
    }
   ],
   "source": [
    "# create train_test_split of the dataset\n",
    "X_train, X_test, y_train, y_test = train_test_split(X, y, test_size=.33, random_state=17)\n",
    "\n",
    "#print shape of each\n",
    "print(f'X_train:', X_train.shape)\n",
    "print(f'y_train:', y_train.shape)\n",
    "print(f'X_test:', X_test.shape)\n",
    "print(f'y_test:', y_test.shape)"
   ]
  },
  {
   "cell_type": "code",
   "execution_count": 8,
   "id": "1849ad83-fa2b-4288-9ae9-5bb3c3d6c523",
   "metadata": {},
   "outputs": [],
   "source": [
    "#removing ids from train dfs\n",
    "X_train_key = X_train[['nces_id', 'rcdts']]\n",
    "X_train.drop(columns=['nces_id', 'rcdts'], inplace=True)\n",
    "\n",
    "X_test_key = X_test[['nces_id', 'rcdts']]\n",
    "X_test.drop(columns=['nces_id', 'rcdts'], inplace=True)"
   ]
  },
  {
   "cell_type": "code",
   "execution_count": 9,
   "id": "f1a6e37a-33a8-458a-8aca-e8d6c7891ccb",
   "metadata": {},
   "outputs": [
    {
     "data": {
      "text/html": [
       "<div>\n",
       "<style scoped>\n",
       "    .dataframe tbody tr th:only-of-type {\n",
       "        vertical-align: middle;\n",
       "    }\n",
       "\n",
       "    .dataframe tbody tr th {\n",
       "        vertical-align: top;\n",
       "    }\n",
       "\n",
       "    .dataframe thead th {\n",
       "        text-align: right;\n",
       "    }\n",
       "</style>\n",
       "<table border=\"1\" class=\"dataframe\">\n",
       "  <thead>\n",
       "    <tr style=\"text-align: right;\">\n",
       "      <th></th>\n",
       "      <th>0</th>\n",
       "    </tr>\n",
       "  </thead>\n",
       "  <tbody>\n",
       "    <tr>\n",
       "      <th>%_math_proficiency_low_income</th>\n",
       "      <td>549</td>\n",
       "    </tr>\n",
       "    <tr>\n",
       "      <th>%_ela_proficiency_low_income</th>\n",
       "      <td>549</td>\n",
       "    </tr>\n",
       "    <tr>\n",
       "      <th>%_math_proficiency</th>\n",
       "      <td>371</td>\n",
       "    </tr>\n",
       "    <tr>\n",
       "      <th>%_ela_proficiency</th>\n",
       "      <td>371</td>\n",
       "    </tr>\n",
       "    <tr>\n",
       "      <th>summative_designation</th>\n",
       "      <td>109</td>\n",
       "    </tr>\n",
       "    <tr>\n",
       "      <th>avg_class_size_all_grades</th>\n",
       "      <td>97</td>\n",
       "    </tr>\n",
       "    <tr>\n",
       "      <th>fte</th>\n",
       "      <td>70</td>\n",
       "    </tr>\n",
       "    <tr>\n",
       "      <th>stuteratio</th>\n",
       "      <td>70</td>\n",
       "    </tr>\n",
       "    <tr>\n",
       "      <th>teacher_retention_rate</th>\n",
       "      <td>67</td>\n",
       "    </tr>\n",
       "    <tr>\n",
       "      <th>student_chronic_truancy_rate</th>\n",
       "      <td>53</td>\n",
       "    </tr>\n",
       "    <tr>\n",
       "      <th>chronically_truant_students</th>\n",
       "      <td>53</td>\n",
       "    </tr>\n",
       "    <tr>\n",
       "      <th>student_attendance_rate</th>\n",
       "      <td>47</td>\n",
       "    </tr>\n",
       "    <tr>\n",
       "      <th>principal_turnover_within_6_years</th>\n",
       "      <td>27</td>\n",
       "    </tr>\n",
       "    <tr>\n",
       "      <th>$_instructional_expenditure_per_pupil</th>\n",
       "      <td>18</td>\n",
       "    </tr>\n",
       "    <tr>\n",
       "      <th>%_general_state_aid</th>\n",
       "      <td>18</td>\n",
       "    </tr>\n",
       "    <tr>\n",
       "      <th>%_local_property_taxes</th>\n",
       "      <td>18</td>\n",
       "    </tr>\n",
       "    <tr>\n",
       "      <th>%_federal_funding</th>\n",
       "      <td>18</td>\n",
       "    </tr>\n",
       "    <tr>\n",
       "      <th>student_mobility_rate_female</th>\n",
       "      <td>17</td>\n",
       "    </tr>\n",
       "    <tr>\n",
       "      <th>student_mobility_rate_male</th>\n",
       "      <td>15</td>\n",
       "    </tr>\n",
       "    <tr>\n",
       "      <th>region_type</th>\n",
       "      <td>12</td>\n",
       "    </tr>\n",
       "    <tr>\n",
       "      <th>district_size</th>\n",
       "      <td>8</td>\n",
       "    </tr>\n",
       "    <tr>\n",
       "      <th>total_number_of_school_days</th>\n",
       "      <td>5</td>\n",
       "    </tr>\n",
       "    <tr>\n",
       "      <th>student_mobility_rate</th>\n",
       "      <td>5</td>\n",
       "    </tr>\n",
       "    <tr>\n",
       "      <th>inc_to_pov_ratio</th>\n",
       "      <td>3</td>\n",
       "    </tr>\n",
       "  </tbody>\n",
       "</table>\n",
       "</div>"
      ],
      "text/plain": [
       "                                         0\n",
       "%_math_proficiency_low_income          549\n",
       "%_ela_proficiency_low_income           549\n",
       "%_math_proficiency                     371\n",
       "%_ela_proficiency                      371\n",
       "summative_designation                  109\n",
       "avg_class_size_all_grades               97\n",
       "fte                                     70\n",
       "stuteratio                              70\n",
       "teacher_retention_rate                  67\n",
       "student_chronic_truancy_rate            53\n",
       "chronically_truant_students             53\n",
       "student_attendance_rate                 47\n",
       "principal_turnover_within_6_years       27\n",
       "$_instructional_expenditure_per_pupil   18\n",
       "%_general_state_aid                     18\n",
       "%_local_property_taxes                  18\n",
       "%_federal_funding                       18\n",
       "student_mobility_rate_female            17\n",
       "student_mobility_rate_male              15\n",
       "region_type                             12\n",
       "district_size                            8\n",
       "total_number_of_school_days              5\n",
       "student_mobility_rate                    5\n",
       "inc_to_pov_ratio                         3"
      ]
     },
     "execution_count": 9,
     "metadata": {},
     "output_type": "execute_result"
    }
   ],
   "source": [
    "#check nulls\n",
    "nulls = pd.DataFrame(X_train.isna().sum()).sort_values(by=0, ascending=False)\n",
    "nulls[nulls[0] != 0]"
   ]
  },
  {
   "cell_type": "markdown",
   "id": "5385d2bd-38a7-40cb-b758-5d913b92a6f3",
   "metadata": {},
   "source": [
    "#### Impute 2 categorical with most frequent b/c it's a very small percentage of nulls"
   ]
  },
  {
   "cell_type": "code",
   "execution_count": 10,
   "id": "e20fd8bd-d85c-4084-bf36-271fe508cc30",
   "metadata": {},
   "outputs": [],
   "source": [
    "#I used value_counts to check the most frequent\n",
    "X_train['region_type'] = X_train['region_type'].replace(np.nan, 'Suburb - Large')\n",
    "X_test['region_type'] = X_test['region_type'].replace(np.nan, 'Suburb - Large')\n",
    "\n",
    "X_train['district_size'] = X_train['district_size'].replace(np.nan, 'LARGE')\n",
    "X_test['district_size'] = X_test['district_size'].replace(np.nan, 'LARGE')"
   ]
  },
  {
   "cell_type": "markdown",
   "id": "dc3fd2f2-03d5-4055-970f-04fb6328f02a",
   "metadata": {},
   "source": [
    "#### Build pipeline to dummy specific categorical columns"
   ]
  },
  {
   "cell_type": "code",
   "execution_count": 11,
   "id": "ec0381f7-9cee-4588-9734-22ce3d7371bb",
   "metadata": {
    "tags": []
   },
   "outputs": [],
   "source": [
    "#build pipeline\n",
    "\n",
    "#OHE\n",
    "ohe = OneHotEncoder(drop='first', sparse=False, handle_unknown = 'ignore', dtype='float')\n",
    "\n",
    "# making a column transformer\n",
    "imp = make_column_transformer(\n",
    "            (ohe, ['region_type', 'school_year', 'charter', 'county', 'district_size', 'title_i_status']),\n",
    "            remainder = 'passthrough',\n",
    "            verbose_feature_names_out=False)"
   ]
  },
  {
   "cell_type": "code",
   "execution_count": 12,
   "id": "cf9efcf9-2b6c-4eb1-baa4-e5388ab19b8d",
   "metadata": {},
   "outputs": [],
   "source": [
    "# turn the output into a dataframe with the column names\n",
    "\n",
    "X_train_ohe = pd.DataFrame(imp.fit_transform(X_train), columns=imp.get_feature_names_out())\n",
    "X_test_ohe = pd.DataFrame(imp.transform(X_test), columns=imp.get_feature_names_out())"
   ]
  },
  {
   "cell_type": "markdown",
   "id": "eea36e65-c4d4-4e9e-8932-a7d681b57a85",
   "metadata": {},
   "source": [
    "#### Create column transformer to scale & KNN impute nulls"
   ]
  },
  {
   "cell_type": "code",
   "execution_count": 13,
   "id": "787c667e-4967-448b-882d-ae630b578c80",
   "metadata": {
    "tags": []
   },
   "outputs": [],
   "source": [
    "#instantiate standard scaler\n",
    "sc = StandardScaler()\n",
    "cols_to_scale = list(X_train_ohe.drop(columns=['%_math_proficiency_low_income', '%_ela_proficiency_low_income',\n",
    "       '%_math_proficiency', '%_ela_proficiency', 'summative_designation',\n",
    "       'avg_class_size_all_grades', 'fte', 'stuteratio',\n",
    "       'teacher_retention_rate', 'chronically_truant_students',\n",
    "       'student_chronic_truancy_rate', 'student_attendance_rate',\n",
    "       'principal_turnover_within_6_years',\n",
    "       '$_instructional_expenditure_per_pupil', '%_general_state_aid',\n",
    "       '%_local_property_taxes', '%_federal_funding',\n",
    "       'student_mobility_rate_female', 'student_mobility_rate_male',\n",
    "       'student_mobility_rate', 'total_number_of_school_days',\n",
    "       'inc_to_pov_ratio']))\n",
    "\n",
    "#instantiate knnimputer\n",
    "knn_imputer = KNNImputer()\n",
    "\n",
    "# making a column transformer\n",
    "knn_imp = make_column_transformer(\n",
    "            (sc, cols_to_scale),\n",
    "            (knn_imputer, ['%_math_proficiency_low_income', '%_ela_proficiency_low_income',\n",
    "                           '%_math_proficiency', '%_ela_proficiency', 'summative_designation',\n",
    "                           'avg_class_size_all_grades', 'fte', 'stuteratio',\n",
    "                           'teacher_retention_rate', 'chronically_truant_students',\n",
    "                           'student_chronic_truancy_rate', 'student_attendance_rate',\n",
    "                           'principal_turnover_within_6_years',\n",
    "                           '$_instructional_expenditure_per_pupil', '%_general_state_aid',\n",
    "                           '%_local_property_taxes', '%_federal_funding',\n",
    "                           'student_mobility_rate_female', 'student_mobility_rate_male',\n",
    "                           'student_mobility_rate', 'total_number_of_school_days',\n",
    "                           'inc_to_pov_ratio']),\n",
    "            remainder = 'passthrough',\n",
    "            verbose_feature_names_out=False)  #we need false so that the feature names come out in the form we want"
   ]
  },
  {
   "cell_type": "code",
   "execution_count": 14,
   "id": "a61af14f-76e7-401b-a9e5-e201bee93e41",
   "metadata": {},
   "outputs": [],
   "source": [
    "# use the column transformer to impute the nulls\n",
    "# turn the output into a dataframe with the column names\n",
    "\n",
    "X_train_imp = pd.DataFrame(knn_imp.fit_transform(X_train_ohe), columns=knn_imp.get_feature_names_out())\n",
    "X_test_imp = pd.DataFrame(knn_imp.transform(X_test_ohe), columns=knn_imp.get_feature_names_out())"
   ]
  },
  {
   "cell_type": "markdown",
   "id": "15a409c4-b0f8-45b2-99b7-f7f6e2f23324",
   "metadata": {},
   "source": [
    "### Rescale the entire dataframe after imputation"
   ]
  },
  {
   "cell_type": "code",
   "execution_count": 15,
   "id": "4f560691-ce40-44d3-971e-4dd78abf50cd",
   "metadata": {},
   "outputs": [],
   "source": [
    "#instantiate standard scaler\n",
    "sc = StandardScaler()\n",
    "\n",
    "#fit & reassign to df\n",
    "Z_train = pd.DataFrame(sc.fit_transform(X_train_imp), columns=sc.get_feature_names_out())\n",
    "Z_test = pd.DataFrame(sc.transform(X_test_imp), columns=sc.get_feature_names_out())"
   ]
  },
  {
   "cell_type": "code",
   "execution_count": 16,
   "id": "dc6bda04-a190-4a59-a6ba-a54643ad48f6",
   "metadata": {
    "tags": []
   },
   "outputs": [
    {
     "name": "stdout",
     "output_type": "stream",
     "text": [
      "(6058, 165)\n",
      "(6058, 2)\n",
      "(2984, 165)\n",
      "(2984, 2)\n"
     ]
    }
   ],
   "source": [
    "print(Z_train.shape)\n",
    "print(y_train.shape)\n",
    "print(Z_test.shape)\n",
    "print(y_test.shape)"
   ]
  },
  {
   "cell_type": "code",
   "execution_count": 17,
   "id": "a0403108-f067-4a1a-b907-7f2b1cf9e52b",
   "metadata": {},
   "outputs": [],
   "source": [
    "Z_train.to_csv('../Capstone/cleaned_datasets/modeling/Z_train.csv')\n",
    "Z_test.to_csv('../Capstone/cleaned_datasets/modeling/Z_test.csv')"
   ]
  },
  {
   "cell_type": "markdown",
   "id": "0cc97b0e-ad32-4068-8dcc-fdbc7c0cee63",
   "metadata": {},
   "source": [
    "### Remove multicollinear features by running df through VIF to remove any features"
   ]
  },
  {
   "cell_type": "code",
   "execution_count": 18,
   "id": "ea3d5d41-4206-42d8-9c14-412d755944b7",
   "metadata": {},
   "outputs": [],
   "source": [
    "from statsmodels.stats.outliers_influence import variance_inflation_factor"
   ]
  },
  {
   "cell_type": "code",
   "execution_count": 19,
   "id": "cd6f353a-0636-4893-89c4-d86ba2a5d1da",
   "metadata": {},
   "outputs": [],
   "source": [
    "# make a copy of X_train to run through VIF\n",
    "Z_train_VIF = Z_train.copy()"
   ]
  },
  {
   "cell_type": "code",
   "execution_count": 20,
   "id": "d882eb4b-5b33-4b99-9aef-e7bc5e4098d0",
   "metadata": {},
   "outputs": [],
   "source": [
    "def vif_dropper(df):  #input a dataframe\n",
    "    df_new = df\n",
    "    while True:  #creating a while loop\n",
    "        df_vif = pd.DataFrame()        # create blank dataframe and assigning it to vif_data\n",
    "        df_vif[\"feature\"] = df_new.columns   # create a new column called feature that extracts col names\n",
    "        df_vif[\"VIF\"] = [variance_inflation_factor(df_new.values, i) for i in range(len(df_new.columns))] #calculates VIF for each feature and adds it to blank df\n",
    "\n",
    "        v = df_vif[df_vif['VIF'] != float('inf')] #filter df for VIF values that are above 5 and not inf & saving to new df called v\n",
    "        m = max([i for i in v['VIF']])   # for each of the VIF vals in v df, return the max\n",
    "        #print(m)\n",
    "        \n",
    "        if m < 5:\n",
    "            break\n",
    "            \n",
    "        else:\n",
    "            feature = df_vif.iloc[df_vif[df_vif['VIF'] == m].index]['feature'].values[0]\n",
    "            df_new.drop(columns = feature, inplace=True)\n",
    "            # print(feature)\n",
    "            \n",
    "    return df_new"
   ]
  },
  {
   "cell_type": "code",
   "execution_count": 21,
   "id": "0017ba75-d347-4688-9ae1-1079abcebbb4",
   "metadata": {},
   "outputs": [],
   "source": [
    "#commenting out so I don't rerun\n",
    "# Z_train_VIF_post = vif_dropper(Z_train_VIF)"
   ]
  },
  {
   "cell_type": "code",
   "execution_count": 22,
   "id": "50fea62a-ca75-4168-b91d-2418c3c6e0f0",
   "metadata": {},
   "outputs": [],
   "source": [
    "#pickle so I don't need to rerun\n",
    "#commenting out so I don't rerun\n",
    "Z_train_VIF.to_pickle('../Capstone/pickles/Z_train_VIF_post.pkl')"
   ]
  },
  {
   "cell_type": "code",
   "execution_count": 23,
   "id": "4293a473-4fa2-4312-8981-f733fdf2d6c3",
   "metadata": {},
   "outputs": [],
   "source": [
    "Z_train_VIF_post = pd.read_pickle('../Capstone/pickles/Z_train_VIF_post.pkl')"
   ]
  },
  {
   "cell_type": "markdown",
   "id": "2c079573-2c11-4558-8183-20d709c44c5b",
   "metadata": {},
   "source": [
    "Z_train_VIF_post.shape\n",
    "# 13 features were dropped due to multicollinearity"
   ]
  },
  {
   "cell_type": "code",
   "execution_count": 24,
   "id": "06890454-1daf-42fa-9e27-10b1fff41ca6",
   "metadata": {},
   "outputs": [
    {
     "data": {
      "text/plain": [
       "set()"
      ]
     },
     "execution_count": 24,
     "metadata": {},
     "output_type": "execute_result"
    }
   ],
   "source": [
    "set(Z_test.columns) - set(Z_train_VIF_post.columns)"
   ]
  },
  {
   "cell_type": "code",
   "execution_count": 25,
   "id": "652c9888-85d0-480f-beb3-fc1d86137b6c",
   "metadata": {},
   "outputs": [],
   "source": [
    "#drop these columns from my dataframe\n",
    "\n",
    "vif_todrop = ['%_ela_proficiency', '%_local_property_taxes', '%_math_proficiency',\n",
    "              '%_student_enrollment_hispanic_or_latino','%_student_enrollment_low_income',\n",
    "              '%_student_enrollment_white','county_Cook','region_type_Rural',\n",
    "              'student_chronic_truancy_rate','student_enrollment_total',\n",
    "              'student_mobility_rate','student_mobility_rate_male','title_i_status_Yes']\n",
    "\n",
    "X_train_final = Z_train.drop(columns= vif_todrop)\n",
    "X_test_final = Z_test.drop(columns= vif_todrop)"
   ]
  },
  {
   "cell_type": "code",
   "execution_count": 26,
   "id": "834332ce-5968-436c-8751-0ed0e48ad448",
   "metadata": {},
   "outputs": [],
   "source": [
    "#export final train/test datasets for modeling\n",
    "X_train_final.to_csv('../Capstone/cleaned_datasets/modeling/model_1/X_train_final.csv')\n",
    "X_test_final.to_csv('../Capstone/cleaned_datasets/modeling/model_1/X_test_final.csv')\n",
    "y_train.to_csv('../Capstone/cleaned_datasets/modeling/model_1/y_train.csv')\n",
    "y_test.to_csv('../Capstone/cleaned_datasets/modeling/model_1/y_test.csv')"
   ]
  }
 ],
 "metadata": {
  "kernelspec": {
   "display_name": "Python (capstone)",
   "language": "python",
   "name": "capstone"
  },
  "language_info": {
   "codemirror_mode": {
    "name": "ipython",
    "version": 3
   },
   "file_extension": ".py",
   "mimetype": "text/x-python",
   "name": "python",
   "nbconvert_exporter": "python",
   "pygments_lexer": "ipython3",
   "version": "3.9.15"
  }
 },
 "nbformat": 4,
 "nbformat_minor": 5
}

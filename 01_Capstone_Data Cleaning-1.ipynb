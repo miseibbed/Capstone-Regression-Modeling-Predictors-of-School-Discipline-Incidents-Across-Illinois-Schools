{
 "cells": [
  {
   "cell_type": "markdown",
   "id": "0a48a8b1-d98c-4647-a26c-d8eb76bd9f36",
   "metadata": {
    "tags": []
   },
   "source": [
    "## Notebook Summary\n",
    "#### *Capstone: Data Cleaning #2*\n",
    "---\n",
    "This contents of this notebook includes the data cleaning of the datasets for each year after all the features were merged together in the previous data cleaning notebook"
   ]
  },
  {
   "cell_type": "markdown",
   "id": "8d8c5462-5a9b-4369-8a21-82e008659d1a",
   "metadata": {},
   "source": [
    "### Datasets\n",
    "---\n",
    "\n",
    "There are datasets included in the [`datasets`](./datasets/) \n",
    "\n",
    "* [`18-20-Report-Card-Public-Data-Set.xlsx`](../Capstone/datasets/18-20-Report-Card-Public-Data-Set.xlsx): school academic, demographic, race, and other descriptions\n",
    "* [`18-21-Financial.xlsx`](../Capstone/datasets/18-21-Financial.xlsx): school and district financial data\n",
    "* [`EDGE-18-20-Poverty-Data.xlsx`](../Capstone/datasets/EDGE-18-20-Poverty-Data.xlsx): school income to poverty data estimates"
   ]
  },
  {
   "cell_type": "code",
   "execution_count": 1,
   "id": "c1797571-3652-4d4f-a98c-aa559d68dd73",
   "metadata": {},
   "outputs": [],
   "source": [
    "# import packages\n",
    "import pandas as pd\n",
    "import numpy as np\n",
    "import seaborn as sns\n",
    "import matplotlib.pyplot as plt\n",
    "import re\n",
    "import pickle\n",
    "\n",
    "pd.set_option('display.max_rows', None)\n",
    "# pd.set_option('max_colwidth', 150)\n",
    "\n",
    "import warnings\n",
    "warnings.filterwarnings('ignore')"
   ]
  },
  {
   "cell_type": "markdown",
   "id": "73fff5c1-63de-41b6-b26b-a5944fadde3c",
   "metadata": {},
   "source": [
    "#### Read in datasets"
   ]
  },
  {
   "cell_type": "code",
   "execution_count": 2,
   "id": "bb230c65-fe5f-4ec3-bffe-b6cce78c2baf",
   "metadata": {},
   "outputs": [],
   "source": [
    "#reading in dataset was deleting leading zeros so need to adjust read in\n",
    "\n",
    "# column names which need to be string\n",
    "cols = ['RCDTS', 'NCES ID']\n",
    "dict_dtypes = {x: 'str' for x in cols}\n",
    "\n",
    "sy18 = pd.read_csv('../Capstone/cleaned_datasets/cleaning/df_18.csv', dtype=dict_dtypes)\n",
    "sy19 = pd.read_csv('../Capstone/cleaned_datasets/cleaning/df_19.csv', dtype=dict_dtypes)\n",
    "sy20 = pd.read_csv('../Capstone/cleaned_datasets/cleaning/df_20.csv', dtype=dict_dtypes)"
   ]
  },
  {
   "cell_type": "code",
   "execution_count": 3,
   "id": "edc8db5d-f618-4e24-87d4-7cfb7ace317a",
   "metadata": {},
   "outputs": [
    {
     "name": "stdout",
     "output_type": "stream",
     "text": [
      "(3797, 397)\n",
      "(3801, 858)\n",
      "(3814, 915)\n"
     ]
    }
   ],
   "source": [
    "print(sy18.shape)\n",
    "print(sy19.shape)\n",
    "print(sy20.shape)"
   ]
  },
  {
   "cell_type": "markdown",
   "id": "b2c67938-a724-417b-91a4-3d66ef617919",
   "metadata": {},
   "source": [
    "### Create function to pre-clean all 3 datasets\n",
    "- dropping PreK because it's a small % of dataset and don't think it's as valuable in terms of discipline data\n",
    "- I am going to build 2 different models - HS vs Elem/Middle because there are a lot of elementary schools that serve up to 8th grade.\n",
    "- There are several schools serving all grades so I am including those schools in both final datasets for modeling\n",
    "- For charter, I am creating a new col - charter and then organize them by High School, Lower School, and All Grades based on the grades served"
   ]
  },
  {
   "cell_type": "code",
   "execution_count": 4,
   "id": "6e5bdb05-9d40-41f5-8d03-4f3600d48969",
   "metadata": {},
   "outputs": [],
   "source": [
    "def clean(df): #input is the df  \n",
    "\n",
    "    # drop columns I know I don't need across all datasets\n",
    "    dropcols = ['Unnamed: 0', 'District Name', 'School', 'Avg Class Size - Kindergarten', 'Avg Class Size - 1',\n",
    "                'Avg Class Size - 2','Avg Class Size - 3','Avg Class Size - 4','Avg Class Size - 5','Avg Class Size - 6',\n",
    "                'Avg Class Size - 7', 'Avg Class Size - 8', 'Avg Class Size - High School', 'District Type', 'District Size']\n",
    "    \n",
    "    df.drop(columns=dropcols, inplace=True)\n",
    "\n",
    "    # drop pre-K from dataset\n",
    "    df = df[df['School Type'] != 'PreK']\n",
    "    \n",
    "    # dropping rows where 'School Type' is null\n",
    "    df = df.dropna(subset=['School Type'])\n",
    "    \n",
    "    # create a new col grouping schools in High School, Lower School, or Charter\n",
    "    df['school_type2'] = ['High School' if x == 'HIGH SCHOOL' else 'Lower School' if (x == 'ELEMENTARY' or x == 'MIDDLE SCHL') else 'Charter' for x in df['School Type']]\n",
    "    \n",
    "    # create new col charter Y/N\n",
    "    df['Charter'] = ['Y' if x == 'Charter' else 'N' for x in df['school_type2']]\n",
    "    \n",
    "    # assigning charter schools to lower/high school\n",
    "    # list of grades served and assigned \n",
    "    hs = [' 9 10 11 12', ' 6 7 8 9 10 11 12', ' 7 8 9 10 11 12', ' 9 10', ' 9 10 11', ' 6 7 8 9 10', ' 8 9 10 11 12', ' 11 12']\n",
    "    allgrades = [' K 1 2 3 4 5 6 7 8 9 10 11 12', ' 3 4 5 6 7 8 9 10 11 12', ' K 1 2 3 4 5 6 7 8 9 10 11', ' 5 6 7 8 9 10 11 12', ' 4 5 6 7 8 9 10']\n",
    "    \n",
    "    # if it's a charter and it meets these 2 conditions, change to High School\n",
    "    for g in hs:\n",
    "        df['school_type2'] = np.where(\n",
    "            (df['Grades Served'] == g) & (df['School Type'] == 'CHARTER SCH'), 'High School', df['school_type2'])\n",
    "    \n",
    "    # if it's a charter and it meets these 2 conditions, change to All grades   \n",
    "    for g in allgrades:\n",
    "        df['school_type2'] = np.where(\n",
    "            (df['Grades Served'] == g) & (df['School Type'] == 'CHARTER SCH'), 'All Grades', df['school_type2']\n",
    "            )\n",
    "    \n",
    "    # if it's a charter and it meets these 2 conditions, change to Lower School\n",
    "    df['school_type2'] = np.where(\n",
    "        (df['school_type2'] == 'Charter') & (df['School Type'] == 'CHARTER SCH'), 'Lower School', df['school_type2'])\n",
    "    \n",
    "    # drop columns that are completely null\n",
    "    df = df.dropna(axis=1, how='all')\n",
    "    \n",
    "    # rename columns to match across datasets\n",
    "    cols_to_rename = {'Min per Day Scieince Grade 3' : 'Min per Day Science Grade 3',\n",
    "                      'Min per Day Scieince Grade 6' : 'Min per Day Science Grade 6',\n",
    "                      'Min per Day Scieince Grade 8' : 'Min per Day Science Grade 8',\n",
    "                      'Min per Day social sciences Grade 3': 'Min per Day Social Sciences Grade 3',\n",
    "                      'Min per Day social sciences Grade 6': 'Min per Day Social Sciences Grade 6',\n",
    "                      'Min per Day social sciences Grade 8': 'Min per Day Social Sciences Grade 8',\n",
    "                      '# Student Enrollment': 'Student Enrollment - Total',\n",
    "                      'Student Enrollment - White %': '% Student Enrollment - White',\n",
    "                      'Student Enrollment - Black or African American %': '% Student Enrollment - Black or African American',\n",
    "                      'Student Enrollment - Hispanic or Latino %': '% Student Enrollment - Hispanic or Latino',\n",
    "                      'Student Enrollment - Asian %': '% Student Enrollment - Asian',\n",
    "                      'Student Enrollment - Native Hawaiian or Other Pacific Islander %': '% Student Enrollment - Native Hawaiian or Other Pacific Islander',\n",
    "                      'Student Enrollment - American Indian or Alaska Native %': '% Student Enrollment - American Indian or Alaska Native',\n",
    "                      'Student Enrollment - Two or More Races %': '% Student Enrollment - Two or More Races',\n",
    "                      'Student Enrollment - EL %' : '% Student Enrollment - EL',\n",
    "                      'Student Enrollment - IEP %': '% Student Enrollment - IEP' ,\n",
    "                      'Student Enrollment - Low Income %': '% Student Enrollment - Low Income',\n",
    "                      'Student Enrollment - Homeless %': '% Student Enrollment - Homeless'\n",
    "                     }\n",
    "    \n",
    "    df.rename(columns = cols_to_rename, inplace=True)\n",
    "    \n",
    "    \n",
    "    return df"
   ]
  },
  {
   "cell_type": "code",
   "execution_count": 5,
   "id": "39ecf0bd-ba84-46c2-93c0-edb8b4ce63e2",
   "metadata": {},
   "outputs": [],
   "source": [
    "#run all datasets through cleaning function and reassign to df\n",
    "sy18 = clean(sy18)\n",
    "sy19 = clean(sy19)\n",
    "sy20 = clean(sy20)"
   ]
  },
  {
   "cell_type": "markdown",
   "id": "27fc486a-262e-4c42-98a7-e013e522290d",
   "metadata": {},
   "source": [
    "### Drop specific columns from the 2018 dataset"
   ]
  },
  {
   "cell_type": "code",
   "execution_count": 6,
   "id": "1db255f4-33b3-4d2b-9f39-a51558dcafc5",
   "metadata": {},
   "outputs": [],
   "source": [
    "colsdrop18 = ['Student Attendance Rate - Male',\n",
    "       'Student Attendance Rate - Female', 'Student Attendance Rate - White',\n",
    "       'Student Attendance Rate - Black or African American',\n",
    "       'Student Attendance Rate - Hispanic or Latino',\n",
    "       'Student Attendance Rate - Asian',\n",
    "       'Student Attendance Rate - Native Hawaiian or Other Pacific Islander',\n",
    "       'Student Attendance Rate - American Indian or Alaska Native',\n",
    "       'Student Attendance Rate - Two or More Races',\n",
    "       'Student Attendance Rate - EL','%8th Grade passing Algebra 1', 'Chronic Absenteeism']\n",
    "\n",
    "sy18.drop(columns=colsdrop18, inplace=True)"
   ]
  },
  {
   "cell_type": "code",
   "execution_count": 7,
   "id": "e1ee8d41-6128-404e-a883-92932702e40c",
   "metadata": {},
   "outputs": [
    {
     "name": "stdout",
     "output_type": "stream",
     "text": [
      "(3709, 294)\n",
      "(3710, 365)\n",
      "(3730, 392)\n"
     ]
    }
   ],
   "source": [
    "print(sy18.shape)\n",
    "print(sy19.shape)\n",
    "print(sy20.shape)"
   ]
  },
  {
   "cell_type": "markdown",
   "id": "63132f3f-9f45-4c49-a1d6-d23a74946de3",
   "metadata": {},
   "source": [
    "### Drop specific columns from the 2019 & 2020 dataset"
   ]
  },
  {
   "cell_type": "code",
   "execution_count": 8,
   "id": "b0a8b9af-7965-4a5e-b11f-ef18e40f39b0",
   "metadata": {},
   "outputs": [],
   "source": [
    "colsdrop18 = ['% Student Enrollment - Children with Disabilities',\n",
    "              'Chronic Absenteeism - Children with Disabilities',\n",
    "              'Chronic Absenteeism - Female',\n",
    "              'Chronic Absenteeism - Male',\n",
    "              'Student Mobility Rate - Children with Disabilities',\n",
    "              'Title 1 Status', '% 8th Grade Passing Algebra 1', 'Chronic Absenteeism']\n",
    "\n",
    "sy19.drop(columns=colsdrop18, inplace=True)\n",
    "sy20.drop(columns=colsdrop18, inplace=True)"
   ]
  },
  {
   "cell_type": "code",
   "execution_count": 9,
   "id": "531b4ced-0c0c-4499-9b80-86986169b077",
   "metadata": {},
   "outputs": [
    {
     "name": "stdout",
     "output_type": "stream",
     "text": [
      "(3709, 294)\n",
      "(3710, 357)\n",
      "(3730, 384)\n"
     ]
    }
   ],
   "source": [
    "print(sy18.shape)\n",
    "print(sy19.shape)\n",
    "print(sy20.shape)"
   ]
  },
  {
   "cell_type": "markdown",
   "id": "5b1c42bb-a185-4582-a2e4-4ed3d3a44122",
   "metadata": {},
   "source": [
    "### Drop additional columns from All Datasets"
   ]
  },
  {
   "cell_type": "code",
   "execution_count": 10,
   "id": "c543333c-f97b-4d7f-b3a0-f83ff522363b",
   "metadata": {},
   "outputs": [],
   "source": [
    "# dropping additional data cols from all datasets\n",
    "\n",
    "drop = ['Five Essential', 'CTE', 'Physical Education', 'Summative Designation: Student Group(s)', 'Giftedness', 'Gifted', 'Min per Day']\n",
    "\n",
    "def drop_cols(df):\n",
    "    for x in drop:\n",
    "        drop_list = df.filter(like=x).columns\n",
    "        df.drop(columns=drop_list, inplace=True)\n",
    "    \n",
    "    return df"
   ]
  },
  {
   "cell_type": "code",
   "execution_count": 11,
   "id": "f25adf87-f463-4140-88b8-778c6e9b70ec",
   "metadata": {},
   "outputs": [],
   "source": [
    "sy18_clean = drop_cols(sy18)\n",
    "sy19_clean = drop_cols(sy19)\n",
    "sy20_clean = drop_cols(sy20)"
   ]
  },
  {
   "cell_type": "markdown",
   "id": "de2b4514-5330-43f8-98e3-db3f0f12dc1d",
   "metadata": {},
   "source": [
    "### Split dataframes into High School & Lower School DataFrames\n",
    "---"
   ]
  },
  {
   "cell_type": "code",
   "execution_count": 12,
   "id": "94bb72e3-57d6-4d0a-b486-0f7ebd753ad5",
   "metadata": {},
   "outputs": [],
   "source": [
    "sy18_hs = sy18_clean[(sy18_clean['school_type2'] == 'High School') | (sy18_clean['school_type2'] == 'All Grades')]\n",
    "sy18_lower = sy18_clean[(sy18_clean['school_type2'] == 'Lower School') | (sy18_clean['school_type2'] == 'All Grades')]\n",
    "sy19_hs = sy19_clean[(sy19_clean['school_type2'] == 'High School') | (sy19_clean['school_type2'] == 'All Grades')]\n",
    "sy19_lower = sy19_clean[(sy19_clean['school_type2'] == 'Lower School') | (sy19_clean['school_type2'] == 'All Grades')]\n",
    "sy20_hs = sy20_clean[(sy20_clean['school_type2'] == 'High School') | (sy20_clean['school_type2'] == 'All Grades')]\n",
    "sy20_lower = sy20_clean[(sy20_clean['school_type2'] == 'Lower School') | (sy20_clean['school_type2'] == 'All Grades')]"
   ]
  },
  {
   "cell_type": "code",
   "execution_count": 13,
   "id": "c2e2dc6c-3c60-4046-b42f-b8346d263b0c",
   "metadata": {},
   "outputs": [
    {
     "name": "stdout",
     "output_type": "stream",
     "text": [
      "(709, 268)\n",
      "(710, 330)\n",
      "(714, 337)\n",
      "(3008, 268)\n",
      "(3009, 330)\n",
      "(3025, 337)\n"
     ]
    }
   ],
   "source": [
    "print(sy18_hs.shape)\n",
    "print(sy19_hs.shape)\n",
    "print(sy20_hs.shape)\n",
    "print(sy18_lower.shape)\n",
    "print(sy19_lower.shape)\n",
    "print(sy20_lower.shape)"
   ]
  },
  {
   "cell_type": "markdown",
   "id": "0f84bc4c-abe9-4bf9-ac1e-85a18d1e7bcb",
   "metadata": {},
   "source": [
    "## Data Cleaning Lower School DFs"
   ]
  },
  {
   "cell_type": "markdown",
   "id": "5a9581aa-ca03-43ad-8413-44570eedacc8",
   "metadata": {},
   "source": [
    "#### Drop all HS related columns"
   ]
  },
  {
   "cell_type": "code",
   "execution_count": 14,
   "id": "a040fb1a-5eaf-4fed-8c43-4ea560bbf04f",
   "metadata": {},
   "outputs": [],
   "source": [
    "#list of hs key words to search for\n",
    "drop = ['High School', '9th Grade', 'AP', 'IB classes', 'Dual Credit', 'Post Secondary', \n",
    "        'advanced Courses', 'Community College', 'CRDC', 'Advanced Courses', 'Postsecondary Institution']\n",
    "\n",
    "def lower_clean(df):\n",
    "    for x in drop:\n",
    "        drop_list = df.filter(like=x).columns\n",
    "        df.drop(columns=drop_list, inplace=True)\n",
    "    \n",
    "    return df"
   ]
  },
  {
   "cell_type": "code",
   "execution_count": 15,
   "id": "64af0f15-7ea5-4ad5-b501-317253798b20",
   "metadata": {},
   "outputs": [],
   "source": [
    "# apply to lower school dfs\n",
    "sy18_lower = lower_clean(sy18_lower)\n",
    "sy19_lower = lower_clean(sy19_lower)\n",
    "sy20_lower = lower_clean(sy20_lower)"
   ]
  },
  {
   "cell_type": "code",
   "execution_count": 16,
   "id": "64775ea4-2748-4c7a-85cc-cd6406731f79",
   "metadata": {},
   "outputs": [
    {
     "name": "stdout",
     "output_type": "stream",
     "text": [
      "(3008, 59)\n",
      "(3009, 59)\n",
      "(3025, 59)\n"
     ]
    }
   ],
   "source": [
    "print(sy18_lower.shape)\n",
    "print(sy19_lower.shape)\n",
    "print(sy20_lower.shape)"
   ]
  },
  {
   "cell_type": "code",
   "execution_count": 17,
   "id": "cdcdf3d3-53a1-490e-88af-7c705de809da",
   "metadata": {},
   "outputs": [],
   "source": [
    "# Double checking that columns match\n",
    "#sy18_lower.columns.difference(sy19_lower.columns)"
   ]
  },
  {
   "cell_type": "markdown",
   "id": "f57f498d-a056-4b0e-8924-e9ce6caabfbe",
   "metadata": {},
   "source": [
    "---"
   ]
  },
  {
   "cell_type": "markdown",
   "id": "7876f398-c434-40c8-96b5-c428c2d6e3cc",
   "metadata": {},
   "source": [
    "### Read in ELA/Math Report Card Dataset from State of IL"
   ]
  },
  {
   "cell_type": "code",
   "execution_count": 18,
   "id": "ea6f4938-c880-44b7-8962-8b15409d749e",
   "metadata": {},
   "outputs": [],
   "source": [
    "scores_18 = pd.read_excel('datasets/18-20-Report-Card-Public-Data-Set.xlsx', sheet_name = '17-18-ELA and Math', converters={'RCDTS': str})\n",
    "scores_19 = pd.read_excel('datasets/18-20-Report-Card-Public-Data-Set.xlsx', sheet_name = '18-19-ELA and Math', converters={'RCDTS': str})\n",
    "scores_20 = pd.read_excel('datasets/18-20-Report-Card-Public-Data-Set.xlsx', sheet_name = '19-20-ELA and Math', converters={'RCDTS': str})"
   ]
  },
  {
   "cell_type": "code",
   "execution_count": 19,
   "id": "294670bb-2c4e-42db-8e9b-30af82cd01c1",
   "metadata": {},
   "outputs": [
    {
     "name": "stdout",
     "output_type": "stream",
     "text": [
      "(4754, 160)\n",
      "(4738, 236)\n",
      "(4727, 21)\n"
     ]
    }
   ],
   "source": [
    "print(scores_18.shape)\n",
    "print(scores_19.shape)\n",
    "print(scores_20.shape)"
   ]
  },
  {
   "cell_type": "code",
   "execution_count": 20,
   "id": "5f3f53aa-49bc-4af3-a69c-83cbef1a30c7",
   "metadata": {},
   "outputs": [
    {
     "data": {
      "text/html": [
       "<div>\n",
       "<style scoped>\n",
       "    .dataframe tbody tr th:only-of-type {\n",
       "        vertical-align: middle;\n",
       "    }\n",
       "\n",
       "    .dataframe tbody tr th {\n",
       "        vertical-align: top;\n",
       "    }\n",
       "\n",
       "    .dataframe thead th {\n",
       "        text-align: right;\n",
       "    }\n",
       "</style>\n",
       "<table border=\"1\" class=\"dataframe\">\n",
       "  <thead>\n",
       "    <tr style=\"text-align: right;\">\n",
       "      <th></th>\n",
       "      <th>RCDTS</th>\n",
       "      <th>Type</th>\n",
       "      <th>School Name</th>\n",
       "      <th>District</th>\n",
       "      <th>City</th>\n",
       "      <th>County</th>\n",
       "      <th>District Type</th>\n",
       "      <th>District Size</th>\n",
       "      <th>School Type</th>\n",
       "      <th>Grades Served</th>\n",
       "      <th>...</th>\n",
       "      <th>Science Grade 5 Proficient</th>\n",
       "      <th>ELA Grade 6 Proficient</th>\n",
       "      <th>Math Grade 6 Proficient</th>\n",
       "      <th>ELA Grade 7 Proficient</th>\n",
       "      <th>Math Grade 7 Proficient</th>\n",
       "      <th>ELA Grade 8 Proficient</th>\n",
       "      <th>Math Grade 8 Proficient</th>\n",
       "      <th>Science Grade 8 Proficient</th>\n",
       "      <th>ELA Grade 11 Proficient</th>\n",
       "      <th>Math Grade 11 Proficient</th>\n",
       "    </tr>\n",
       "  </thead>\n",
       "  <tbody>\n",
       "    <tr>\n",
       "      <th>0</th>\n",
       "      <td>010010010260000</td>\n",
       "      <td>District</td>\n",
       "      <td>NaN</td>\n",
       "      <td>Payson CUSD 1</td>\n",
       "      <td>Payson</td>\n",
       "      <td>Adams</td>\n",
       "      <td>UNIT</td>\n",
       "      <td>MEDIUM</td>\n",
       "      <td>NaN</td>\n",
       "      <td>NaN</td>\n",
       "      <td>...</td>\n",
       "      <td>22.0</td>\n",
       "      <td>15.0</td>\n",
       "      <td>8.0</td>\n",
       "      <td>14.0</td>\n",
       "      <td>13.0</td>\n",
       "      <td>12.0</td>\n",
       "      <td>6.0</td>\n",
       "      <td>23.0</td>\n",
       "      <td>15.0</td>\n",
       "      <td>11.0</td>\n",
       "    </tr>\n",
       "    <tr>\n",
       "      <th>1</th>\n",
       "      <td>010010010260001</td>\n",
       "      <td>School</td>\n",
       "      <td>Seymour High School</td>\n",
       "      <td>Payson CUSD 1</td>\n",
       "      <td>Payson</td>\n",
       "      <td>Adams</td>\n",
       "      <td>UNIT</td>\n",
       "      <td>MEDIUM</td>\n",
       "      <td>HIGH SCHOOL</td>\n",
       "      <td>7 8 9 10 11 12</td>\n",
       "      <td>...</td>\n",
       "      <td>NaN</td>\n",
       "      <td>NaN</td>\n",
       "      <td>NaN</td>\n",
       "      <td>14.0</td>\n",
       "      <td>13.0</td>\n",
       "      <td>12.0</td>\n",
       "      <td>6.0</td>\n",
       "      <td>23.0</td>\n",
       "      <td>15.0</td>\n",
       "      <td>11.0</td>\n",
       "    </tr>\n",
       "    <tr>\n",
       "      <th>2</th>\n",
       "      <td>010010010262002</td>\n",
       "      <td>School</td>\n",
       "      <td>Seymour Elementary School</td>\n",
       "      <td>Payson CUSD 1</td>\n",
       "      <td>Payson</td>\n",
       "      <td>Adams</td>\n",
       "      <td>UNIT</td>\n",
       "      <td>MEDIUM</td>\n",
       "      <td>ELEMENTARY</td>\n",
       "      <td>PK K 1 2 3 4 5 6</td>\n",
       "      <td>...</td>\n",
       "      <td>22.0</td>\n",
       "      <td>15.0</td>\n",
       "      <td>8.0</td>\n",
       "      <td>NaN</td>\n",
       "      <td>NaN</td>\n",
       "      <td>NaN</td>\n",
       "      <td>NaN</td>\n",
       "      <td>NaN</td>\n",
       "      <td>NaN</td>\n",
       "      <td>NaN</td>\n",
       "    </tr>\n",
       "    <tr>\n",
       "      <th>3</th>\n",
       "      <td>010010020260000</td>\n",
       "      <td>District</td>\n",
       "      <td>NaN</td>\n",
       "      <td>Liberty CUSD 2</td>\n",
       "      <td>Liberty</td>\n",
       "      <td>Adams</td>\n",
       "      <td>UNIT</td>\n",
       "      <td>MEDIUM</td>\n",
       "      <td>NaN</td>\n",
       "      <td>NaN</td>\n",
       "      <td>...</td>\n",
       "      <td>21.0</td>\n",
       "      <td>13.0</td>\n",
       "      <td>14.0</td>\n",
       "      <td>22.0</td>\n",
       "      <td>17.0</td>\n",
       "      <td>17.0</td>\n",
       "      <td>15.0</td>\n",
       "      <td>33.0</td>\n",
       "      <td>17.0</td>\n",
       "      <td>12.0</td>\n",
       "    </tr>\n",
       "    <tr>\n",
       "      <th>4</th>\n",
       "      <td>010010020260001</td>\n",
       "      <td>School</td>\n",
       "      <td>Liberty High School</td>\n",
       "      <td>Liberty CUSD 2</td>\n",
       "      <td>Liberty</td>\n",
       "      <td>Adams</td>\n",
       "      <td>UNIT</td>\n",
       "      <td>MEDIUM</td>\n",
       "      <td>HIGH SCHOOL</td>\n",
       "      <td>7 8 9 10 11 12</td>\n",
       "      <td>...</td>\n",
       "      <td>NaN</td>\n",
       "      <td>NaN</td>\n",
       "      <td>NaN</td>\n",
       "      <td>22.0</td>\n",
       "      <td>17.0</td>\n",
       "      <td>17.0</td>\n",
       "      <td>15.0</td>\n",
       "      <td>33.0</td>\n",
       "      <td>17.0</td>\n",
       "      <td>12.0</td>\n",
       "    </tr>\n",
       "  </tbody>\n",
       "</table>\n",
       "<p>5 rows × 160 columns</p>\n",
       "</div>"
      ],
      "text/plain": [
       "             RCDTS      Type                School Name        District  \\\n",
       "0  010010010260000  District                        NaN   Payson CUSD 1   \n",
       "1  010010010260001    School        Seymour High School   Payson CUSD 1   \n",
       "2  010010010262002    School  Seymour Elementary School   Payson CUSD 1   \n",
       "3  010010020260000  District                        NaN  Liberty CUSD 2   \n",
       "4  010010020260001    School        Liberty High School  Liberty CUSD 2   \n",
       "\n",
       "      City County District Type District Size  School Type     Grades Served  \\\n",
       "0   Payson  Adams          UNIT        MEDIUM          NaN               NaN   \n",
       "1   Payson  Adams          UNIT        MEDIUM  HIGH SCHOOL    7 8 9 10 11 12   \n",
       "2   Payson  Adams          UNIT        MEDIUM   ELEMENTARY  PK K 1 2 3 4 5 6   \n",
       "3  Liberty  Adams          UNIT        MEDIUM          NaN               NaN   \n",
       "4  Liberty  Adams          UNIT        MEDIUM  HIGH SCHOOL    7 8 9 10 11 12   \n",
       "\n",
       "   ...  Science Grade 5 Proficient  ELA Grade 6 Proficient  \\\n",
       "0  ...                        22.0                    15.0   \n",
       "1  ...                         NaN                     NaN   \n",
       "2  ...                        22.0                    15.0   \n",
       "3  ...                        21.0                    13.0   \n",
       "4  ...                         NaN                     NaN   \n",
       "\n",
       "   Math Grade 6 Proficient  ELA Grade 7 Proficient  Math Grade 7 Proficient  \\\n",
       "0                      8.0                    14.0                     13.0   \n",
       "1                      NaN                    14.0                     13.0   \n",
       "2                      8.0                     NaN                      NaN   \n",
       "3                     14.0                    22.0                     17.0   \n",
       "4                      NaN                    22.0                     17.0   \n",
       "\n",
       "   ELA Grade 8 Proficient  Math Grade 8 Proficient  \\\n",
       "0                    12.0                      6.0   \n",
       "1                    12.0                      6.0   \n",
       "2                     NaN                      NaN   \n",
       "3                    17.0                     15.0   \n",
       "4                    17.0                     15.0   \n",
       "\n",
       "   Science Grade 8 Proficient  ELA Grade 11 Proficient  \\\n",
       "0                        23.0                     15.0   \n",
       "1                        23.0                     15.0   \n",
       "2                         NaN                      NaN   \n",
       "3                        33.0                     17.0   \n",
       "4                        33.0                     17.0   \n",
       "\n",
       "   Math Grade 11 Proficient  \n",
       "0                      11.0  \n",
       "1                      11.0  \n",
       "2                       NaN  \n",
       "3                      12.0  \n",
       "4                      12.0  \n",
       "\n",
       "[5 rows x 160 columns]"
      ]
     },
     "execution_count": 20,
     "metadata": {},
     "output_type": "execute_result"
    }
   ],
   "source": [
    "scores_18.head()"
   ]
  },
  {
   "cell_type": "code",
   "execution_count": 21,
   "id": "8dd4931f-6f97-4ec0-9287-163db9ddeb4e",
   "metadata": {},
   "outputs": [],
   "source": [
    "#filter rows where type = School\n",
    "scores_18 = scores_18[scores_18['Type'] == 'School']\n",
    "scores_19 = scores_19[scores_19['Type'] == 'School']\n",
    "scores_20 = scores_20[scores_20['Type'] == 'School']"
   ]
  },
  {
   "cell_type": "code",
   "execution_count": 22,
   "id": "54eca508-336e-4c95-9ef6-5ecabc67eb99",
   "metadata": {},
   "outputs": [],
   "source": [
    "#only selecting columns needed\n",
    "assessment_18 = scores_18[['RCDTS', 'ELA Proficiency Total %', 'ELA Proficiency Low Income %', 'Math Proficiency Total %', 'Math Proficiency Low Income %']]\n",
    "assessment_19 = scores_19[['RCDTS', '% ELA Proficiency', '% ELA Proficiency - Low Income', '% Math Proficiency', '% Math Proficiency - Low Income']]\n",
    "\n",
    "#no assessment data for 2020 available. Can I still use this for the other years?"
   ]
  },
  {
   "cell_type": "code",
   "execution_count": 23,
   "id": "16b520ea-674a-4950-a36a-426e0309702a",
   "metadata": {
    "tags": []
   },
   "outputs": [],
   "source": [
    "#rename columns to match\n",
    "assessment_18.rename(columns = {'ELA Proficiency Total %': '% ELA Proficiency',\n",
    "                                'ELA Proficiency Low Income %': '% ELA Proficiency - Low Income',\n",
    "                                'Math Proficiency Total %': '% Math Proficiency',\n",
    "                                'Math Proficiency Low Income %': '% Math Proficiency - Low Income'}, inplace=True)"
   ]
  },
  {
   "cell_type": "code",
   "execution_count": 24,
   "id": "767b993a-c0a0-4441-b81b-6d5df5e87c6c",
   "metadata": {},
   "outputs": [],
   "source": [
    "# since 2020 was the year covid started there's no assessment data scores for that year, but this is a feature I want to use in the model\n",
    "# going to use time series logic of last data to predict the 2019-2020 data by copying 2018-2019 year's data over\n",
    "\n",
    "#grab just the school code from the raw dataset\n",
    "assessment_20 = scores_20[['RCDTS']]\n",
    "\n",
    "#grab the scores from the previous year and add it to the 20 dataset\n",
    "assessment_20 = assessment_20.merge(assessment_19, how='left', on = 'RCDTS')"
   ]
  },
  {
   "cell_type": "markdown",
   "id": "e1ec94d5-f050-415e-b1c5-c5042ff0421f",
   "metadata": {},
   "source": [
    "## Source: NCES Data Cleaning\n",
    "---"
   ]
  },
  {
   "cell_type": "markdown",
   "id": "27336714-638c-45f3-a166-4709f420afc3",
   "metadata": {
    "tags": []
   },
   "source": [
    "### Read in school income-to-poverty estimates dataset from NCES"
   ]
  },
  {
   "cell_type": "code",
   "execution_count": 25,
   "id": "6088a1c2-4db4-41ae-a436-06e36dbe1026",
   "metadata": {},
   "outputs": [],
   "source": [
    "# read in the data from all 3 sheets\n",
    "incometopov_18 = pd.read_excel('datasets/EDGE-18-20-Poverty-Data.xlsx', sheet_name = '17-18', converters={'NCESSCH': str})\n",
    "incometopov_19 = pd.read_excel('datasets/EDGE-18-20-Poverty-Data.xlsx', sheet_name = '18-19', converters={'NCESSCH': str})\n",
    "incometopov_20 = pd.read_excel('datasets/EDGE-18-20-Poverty-Data.xlsx', sheet_name = '19-20', converters={'NCESSCH': str})"
   ]
  },
  {
   "cell_type": "code",
   "execution_count": 26,
   "id": "0a31d549-e447-4458-b404-9737c2f286ac",
   "metadata": {},
   "outputs": [],
   "source": [
    "#only select the columns I need for merge\n",
    "ipr_18 = incometopov_18[['NCESSCH', 'IPR_EST']]\n",
    "ipr_19 = incometopov_19[['NCESSCH', 'IPR_EST']]\n",
    "ipr_20 = incometopov_20[['NCESSCH', 'IPR_EST']]"
   ]
  },
  {
   "cell_type": "markdown",
   "id": "4b31cb8a-baeb-4fe1-a413-67fe6f5c7472",
   "metadata": {},
   "source": [
    "### Read in school characteristics dataset from NCES"
   ]
  },
  {
   "cell_type": "code",
   "execution_count": 27,
   "id": "73b0f547-5636-44f5-9ad3-33e15de420cc",
   "metadata": {},
   "outputs": [],
   "source": [
    "#read in the data from all 3 sheets\n",
    "# nces18 = pd.read_excel('datasets/18-20-Public_School_Characteristics.xlsx', sheet_name = '17-18', converters={'NCESSCH': str})\n",
    "# nces19 = pd.read_excel('datasets/18-20-Public_School_Characteristics.xlsx', sheet_name = '18-19', converters={'NCESSCH': str})\n",
    "# nces20 = pd.read_excel('datasets/18-20-Public_School_Characteristics.xlsx', sheet_name = '19-20', converters={'NCESSCH': str})"
   ]
  },
  {
   "cell_type": "code",
   "execution_count": 28,
   "id": "c6c34e9a-66c4-44d8-80a0-7778671a9b75",
   "metadata": {},
   "outputs": [],
   "source": [
    "# nces18 = nces18[nces18['STABR'] == 'IL']\n",
    "# nces19 = nces19[nces19['STABR'] == 'IL']\n",
    "# nces20 = nces20[nces20['STABR'] == 'IL']"
   ]
  },
  {
   "cell_type": "code",
   "execution_count": 29,
   "id": "c4ad0726-b720-4922-a7f8-a996c5813c38",
   "metadata": {},
   "outputs": [],
   "source": [
    "#only select the columns I need for merge\n",
    "# nces18 = nces18[['NCESSCH', 'STITLEI', 'STUTERATIO', 'ULOCALE', 'FTE', 'LATCOD', 'LONCOD']]\n",
    "# nces19 = nces19[['NCESSCH', 'STITLEI', 'STUTERATIO', 'ULOCALE', 'FTE', 'LATCOD', 'LONCOD']]\n",
    "# nces20 = nces20[['NCESSCH', 'STITLEI', 'STUTERATIO', 'ULOCALE', 'FTE', 'LATCOD', 'LONCOD']]"
   ]
  },
  {
   "cell_type": "code",
   "execution_count": 30,
   "id": "0df052db-0a84-4f47-8251-451666b1b43b",
   "metadata": {},
   "outputs": [],
   "source": [
    "#pickle these dfs so I don't need to rerun the original dataset\n",
    "#commenting out so I don't run again\n",
    "\n",
    "# nces18.to_pickle('../Capstone/pickles/nces18.pkl')\n",
    "# nces19.to_pickle('../Capstone/pickles/nces19.pkl')\n",
    "# nces20.to_pickle('../Capstone/pickles/nces20.pkl')"
   ]
  },
  {
   "cell_type": "code",
   "execution_count": 31,
   "id": "bdfaa44b-3e9e-4158-9600-8be071099ce5",
   "metadata": {},
   "outputs": [],
   "source": [
    "#load in dfs\n",
    "nces18 = pd.read_pickle('../Capstone/pickles/nces18.pkl')\n",
    "nces19 = pd.read_pickle('../Capstone/pickles/nces19.pkl')\n",
    "nces20 = pd.read_pickle('../Capstone/pickles/nces20.pkl')"
   ]
  },
  {
   "cell_type": "markdown",
   "id": "74375e40-d1dd-4229-bb04-467574b0447b",
   "metadata": {},
   "source": [
    "## Merge NCES datasets & IL Assessment dataset with Lower School 18-20 Datasets"
   ]
  },
  {
   "cell_type": "code",
   "execution_count": 32,
   "id": "5a686cfb-af43-4ec7-8529-327fbd37dda5",
   "metadata": {},
   "outputs": [
    {
     "name": "stdout",
     "output_type": "stream",
     "text": [
      "(3008, 59)\n",
      "(3009, 59)\n",
      "(3025, 59)\n"
     ]
    }
   ],
   "source": [
    "print(sy18_lower.shape)\n",
    "print(sy19_lower.shape)\n",
    "print(sy20_lower.shape)"
   ]
  },
  {
   "cell_type": "code",
   "execution_count": 33,
   "id": "79166626-21c7-4c2b-b389-fb466999581b",
   "metadata": {},
   "outputs": [],
   "source": [
    "# NCES ID\n",
    "# NCESSCH"
   ]
  },
  {
   "cell_type": "code",
   "execution_count": 34,
   "id": "b091c13d-589c-41cb-80cc-256980c0fb8d",
   "metadata": {},
   "outputs": [],
   "source": [
    "# merge with school characteristics\n",
    "sy18_low_final = sy18_lower.merge(nces18, how = 'left', left_on = 'NCES ID', right_on = 'NCESSCH')\n",
    "sy19_low_final = sy19_lower.merge(nces18, how = 'left', left_on = 'NCES ID', right_on = 'NCESSCH')\n",
    "sy20_low_final = sy20_lower.merge(nces18, how = 'left', left_on = 'NCES ID', right_on = 'NCESSCH')\n",
    "\n",
    "#drop NCESSCH col\n",
    "sy18_low_final.drop(columns = 'NCESSCH', inplace=True)\n",
    "sy19_low_final.drop(columns = 'NCESSCH', inplace=True)\n",
    "sy20_low_final.drop(columns = 'NCESSCH', inplace=True)"
   ]
  },
  {
   "cell_type": "code",
   "execution_count": 35,
   "id": "24ef358c-8e92-4671-9bd0-87ac840f725c",
   "metadata": {},
   "outputs": [],
   "source": [
    "# merge with IPR data\n",
    "sy18_low_final = sy18_low_final.merge(ipr_18, how = 'left', left_on = 'NCES ID', right_on = 'NCESSCH')\n",
    "sy19_low_final = sy19_low_final.merge(ipr_19, how = 'left', left_on = 'NCES ID', right_on = 'NCESSCH')\n",
    "sy20_low_final = sy20_low_final.merge(ipr_20, how = 'left', left_on = 'NCES ID', right_on = 'NCESSCH')\n",
    "\n",
    "#drop NCESSCH col\n",
    "sy18_low_final.drop(columns = 'NCESSCH', inplace=True)\n",
    "sy19_low_final.drop(columns = 'NCESSCH', inplace=True)\n",
    "sy20_low_final.drop(columns = 'NCESSCH', inplace=True)"
   ]
  },
  {
   "cell_type": "code",
   "execution_count": 36,
   "id": "676ea049-6e09-4cda-a8fa-fbce8e7a99bc",
   "metadata": {},
   "outputs": [],
   "source": [
    "# merge with assessment data\n",
    "sy18_low_final = sy18_low_final.merge(assessment_18, how = 'left', on = 'RCDTS')\n",
    "sy19_low_final = sy19_low_final.merge(assessment_19, how = 'left', on = 'RCDTS')\n",
    "sy20_low_final = sy20_low_final.merge(assessment_20, how = 'left', on = 'RCDTS')"
   ]
  },
  {
   "cell_type": "markdown",
   "id": "692e000c-79f7-40af-915d-9a1b56ab3dbb",
   "metadata": {},
   "source": [
    "### Merging in Financial Data for each SY"
   ]
  },
  {
   "cell_type": "code",
   "execution_count": 37,
   "id": "5424260f-b764-4f18-82a5-df1ba30b4505",
   "metadata": {},
   "outputs": [],
   "source": [
    "#each represent what percentage of school funding came from which stream\n",
    "#so for 2018 SY data - I should pull from "
   ]
  },
  {
   "cell_type": "code",
   "execution_count": 38,
   "id": "fd4333f4-7bfd-4fbf-9dc0-635d5b5de227",
   "metadata": {
    "tags": []
   },
   "outputs": [],
   "source": [
    "#financial data for the previous school year is available the following year\n",
    "#read in data\n",
    "financial18 = pd.read_excel('../Capstone/datasets/18-21-Financial.xlsx', sheet_name='18-19-Financial', converters={'RCDTS': str})\n",
    "\n",
    "#filter for district only\n",
    "financial18 = financial18[financial18['Type'] == 'District']\n",
    "\n",
    "#select specific columns\n",
    "financial18 = financial18[['District','District Size',\n",
    "                '% Local Property Taxes 2017-18', '% General State Aid 2017-18',\n",
    "                '% Federal Funding 2017-18', '$ Instructional Expenditure per Pupil 2017-18']]"
   ]
  },
  {
   "cell_type": "code",
   "execution_count": 39,
   "id": "19e70788-ae6a-4d5b-98b0-9fb8f29b0752",
   "metadata": {
    "tags": []
   },
   "outputs": [],
   "source": [
    "#financial data for the previous school year is available the following year\n",
    "#read in data\n",
    "financial19 = pd.read_excel('../Capstone/datasets/18-21-Financial.xlsx', sheet_name='19-20-Financial', converters={'RCDTS': str})\n",
    "\n",
    "#filter for district only\n",
    "financial19 = financial19[financial19['Type'] == 'District']\n",
    "\n",
    "#select specific columns\n",
    "financial19 = financial19[['District', 'District Size',\n",
    "                '% Local Property Taxes', '% General State Aid',\n",
    "                '% Federal Funding', '$ Instructional Expenditure per Pupil']]"
   ]
  },
  {
   "cell_type": "code",
   "execution_count": 40,
   "id": "9fb263c4-e6bf-41a7-8423-481add9b1413",
   "metadata": {},
   "outputs": [],
   "source": [
    "#financial data for the previous school year is available the following year\n",
    "#read in data\n",
    "financial20 = pd.read_excel('../Capstone/datasets/18-21-Financial.xlsx', sheet_name='20-21-Financial', converters={'RCDTS': str})\n",
    "\n",
    "#filter for district only\n",
    "financial20 = financial20[financial20['Type'] == 'District']\n",
    "\n",
    "#select specific columns\n",
    "financial20 = financial20[['District', 'District Size',\n",
    "                '% Local Property Taxes', '% General State Aid',\n",
    "                '% Federal Funding', '$ Instructional Expenditure per Pupil']]"
   ]
  },
  {
   "cell_type": "code",
   "execution_count": 41,
   "id": "a2dccb99-cc1d-4d41-9115-a47505a9de01",
   "metadata": {},
   "outputs": [],
   "source": [
    "#renaming column headers to match\n",
    "financial18.rename(columns = {'% Local Property Taxes 2017-18': '% Local Property Taxes',\n",
    "                    '% General State Aid 2017-18': '% General State Aid',\n",
    "                    '% Federal Funding 2017-18': '% Federal Funding', \n",
    "                    '$ Instructional Expenditure per Pupil 2017-18':'$ Instructional Expenditure per Pupil'}, inplace=True)"
   ]
  },
  {
   "cell_type": "code",
   "execution_count": 42,
   "id": "7557c6a8-39c8-41a5-9a7d-ffd1fa4b0892",
   "metadata": {},
   "outputs": [
    {
     "data": {
      "text/html": [
       "<div>\n",
       "<style scoped>\n",
       "    .dataframe tbody tr th:only-of-type {\n",
       "        vertical-align: middle;\n",
       "    }\n",
       "\n",
       "    .dataframe tbody tr th {\n",
       "        vertical-align: top;\n",
       "    }\n",
       "\n",
       "    .dataframe thead th {\n",
       "        text-align: right;\n",
       "    }\n",
       "</style>\n",
       "<table border=\"1\" class=\"dataframe\">\n",
       "  <thead>\n",
       "    <tr style=\"text-align: right;\">\n",
       "      <th></th>\n",
       "      <th>District</th>\n",
       "      <th>District Size</th>\n",
       "      <th>% Local Property Taxes</th>\n",
       "      <th>% General State Aid</th>\n",
       "      <th>% Federal Funding</th>\n",
       "      <th>$ Instructional Expenditure per Pupil</th>\n",
       "    </tr>\n",
       "  </thead>\n",
       "  <tbody>\n",
       "    <tr>\n",
       "      <th>3872</th>\n",
       "      <td>Payson CUSD 1</td>\n",
       "      <td>MEDIUM</td>\n",
       "      <td>45.3</td>\n",
       "      <td>34.9</td>\n",
       "      <td>7.4</td>\n",
       "      <td>4539.49</td>\n",
       "    </tr>\n",
       "    <tr>\n",
       "      <th>3873</th>\n",
       "      <td>Liberty CUSD 2</td>\n",
       "      <td>MEDIUM</td>\n",
       "      <td>41.1</td>\n",
       "      <td>35.4</td>\n",
       "      <td>5.5</td>\n",
       "      <td>5775.29</td>\n",
       "    </tr>\n",
       "    <tr>\n",
       "      <th>3874</th>\n",
       "      <td>Central CUSD 3</td>\n",
       "      <td>MEDIUM</td>\n",
       "      <td>39.7</td>\n",
       "      <td>39.3</td>\n",
       "      <td>9.0</td>\n",
       "      <td>5361.85</td>\n",
       "    </tr>\n",
       "    <tr>\n",
       "      <th>3875</th>\n",
       "      <td>CUSD 4</td>\n",
       "      <td>MEDIUM</td>\n",
       "      <td>49.3</td>\n",
       "      <td>33.9</td>\n",
       "      <td>5.6</td>\n",
       "      <td>4899.45</td>\n",
       "    </tr>\n",
       "    <tr>\n",
       "      <th>3876</th>\n",
       "      <td>Quincy SD 172</td>\n",
       "      <td>LARGE</td>\n",
       "      <td>53.0</td>\n",
       "      <td>20.8</td>\n",
       "      <td>12.0</td>\n",
       "      <td>6615.00</td>\n",
       "    </tr>\n",
       "  </tbody>\n",
       "</table>\n",
       "</div>"
      ],
      "text/plain": [
       "            District District Size  % Local Property Taxes  \\\n",
       "3872   Payson CUSD 1        MEDIUM                    45.3   \n",
       "3873  Liberty CUSD 2        MEDIUM                    41.1   \n",
       "3874  Central CUSD 3        MEDIUM                    39.7   \n",
       "3875          CUSD 4        MEDIUM                    49.3   \n",
       "3876   Quincy SD 172         LARGE                    53.0   \n",
       "\n",
       "      % General State Aid  % Federal Funding  \\\n",
       "3872                 34.9                7.4   \n",
       "3873                 35.4                5.5   \n",
       "3874                 39.3                9.0   \n",
       "3875                 33.9                5.6   \n",
       "3876                 20.8               12.0   \n",
       "\n",
       "      $ Instructional Expenditure per Pupil  \n",
       "3872                                4539.49  \n",
       "3873                                5775.29  \n",
       "3874                                5361.85  \n",
       "3875                                4899.45  \n",
       "3876                                6615.00  "
      ]
     },
     "execution_count": 42,
     "metadata": {},
     "output_type": "execute_result"
    }
   ],
   "source": [
    "financial18.head()"
   ]
  },
  {
   "cell_type": "markdown",
   "id": "78c7c0aa-aff5-45ac-af5c-5da3e8bdc5a5",
   "metadata": {},
   "source": [
    "### Checking & renaming district name mismatches between datasets"
   ]
  },
  {
   "cell_type": "code",
   "execution_count": 43,
   "id": "a8866399-9aef-434f-b3bd-2cf84d62902e",
   "metadata": {},
   "outputs": [],
   "source": [
    "# set(sy18_low_final['District'].unique()) - set(financial18['District'].unique())\n",
    "# set(sy19_low_final['District'].unique()) - set(financial19['District'].unique())\n",
    "# set(sy20_low_final['District'].unique()) - set(financial20['District'].unique())"
   ]
  },
  {
   "cell_type": "code",
   "execution_count": 44,
   "id": "fad0850c-19e4-4e9c-b0e5-9513c2925125",
   "metadata": {},
   "outputs": [],
   "source": [
    "#renaming districts if needed\n",
    "sy18_low_final.at[2108, 'District'] = 'Oak Grove SD 68 Green Oaks'\n",
    "sy18_low_final.at[2488, 'District'] = 'Oak Grove SD 68  Bartonville'"
   ]
  },
  {
   "cell_type": "code",
   "execution_count": 45,
   "id": "88c031a3-ea9e-490d-a779-a41ed734ec52",
   "metadata": {},
   "outputs": [],
   "source": [
    "update = {'Ashton-Franklin Center CUSD 27': 'Ashton-Franklin Center CUSD 275',\n",
    "          'Betty Shabazz  International C': 'Betty Shabazz  International Charter School',\n",
    "          'Bluford Unit School District 3': 'Bluford Unit School District 318',\n",
    "          'Bronzeville Academy Chtr Schoo': 'Bronzeville Academy Chtr School',\n",
    "          'Chadwick-Milledgeville CUSD 39': 'Chadwick-Milledgeville CUSD 399',\n",
    "          'Dimmick Community Consolidated': 'Dimmick Community Consolidated SD #175',\n",
    "          'Elgin Math and Science Academy': 'Elgin Math and Science Academy Charter School',\n",
    "          'Gibson City-Melvin-Sibley CUSD': 'Gibson City-Melvin-Sibley CUSD 5',\n",
    "          'Horizon Science Acad-McKinley ': 'Horizon Science Acad-McKinley Park Charter Sch',\n",
    "          'Horizon Science Acad-Belmont C': 'Horizon Science Acad-Belmont Charter Sch',\n",
    "          'Huntley Community School Distr': 'Huntley Community School District 158',\n",
    "          'Lincolnshire-Prairieview SD 10': 'Lincolnshire-Prairieview SD 103',\n",
    "          'Maywood-Melrose Park-Broadview': 'Maywood-Melrose Park-Broadview 89',\n",
    "          'Mercer County School District ': 'Mercer County School District 404',\n",
    "          'Milford Area Public Schools Di': 'Milford Area Public Schools District 124',\n",
    "          'N Pekin & Marquette Hght SD 10': 'N Pekin & Marquette Hght SD 102',\n",
    "          'Norris City-Omaha-Enfield CUSD': 'Norris City-Omaha-Enfield CUSD 3',\n",
    "          'Prairie Crossing Charter Schoo': 'Prairie Crossing Charter School',\n",
    "          'Prophetstown-Lyndon-Tampico CU': 'Prophetstown-Lyndon-Tampico CUSD3',\n",
    "          'Salt Fork Community Unit Distr': 'Salt Fork Community Unit District  512',\n",
    "          'Spring Garden Community Consol': 'Spring Garden Community Consolidated School District 178',\n",
    "          'Woodlawn Unit School District ': 'Woodlawn Unit School District 209'}\n",
    "          \n",
    "financial20.replace(update, inplace=True)"
   ]
  },
  {
   "cell_type": "code",
   "execution_count": 46,
   "id": "bc8f21a0-3321-485e-b635-8c85d9febccb",
   "metadata": {},
   "outputs": [],
   "source": [
    "#merge with main df\n",
    "sy18_low_final = sy18_low_final.merge(financial18, how = 'left', on = 'District')\n",
    "sy19_low_final = sy19_low_final.merge(financial19, how = 'left', on = 'District')\n",
    "sy20_low_final = sy20_low_final.merge(financial20, how = 'left', on = 'District')"
   ]
  },
  {
   "cell_type": "markdown",
   "id": "4a2d25ad-b252-4bfe-9133-57ad0f5c1475",
   "metadata": {},
   "source": [
    "### Merge final K-8 Datasets into 1 large df"
   ]
  },
  {
   "cell_type": "code",
   "execution_count": 47,
   "id": "adb34f6a-abe1-440e-9005-250daa1886c8",
   "metadata": {},
   "outputs": [],
   "source": [
    "#rearrange columns so all dfs are in the same order\n",
    "\n",
    "order = ['key','RCDTS', 'NCES ID','school_year','Type', 'school_type2','School Name', 'District', 'City', 'County',\n",
    "         'School Type', 'District Size', 'Grades Served','Summative Designation', 'State Senate District',\n",
    "       'State Representative District', 'Charter', 'STITLEI', 'ULOCALE','Student Enrollment - Total',\n",
    "       '% Student Enrollment - White',\n",
    "       '% Student Enrollment - Black or African American',\n",
    "       '% Student Enrollment - Hispanic or Latino',\n",
    "       '% Student Enrollment - Asian',\n",
    "       '% Student Enrollment - Native Hawaiian or Other Pacific Islander',\n",
    "       '% Student Enrollment - American Indian or Alaska Native',\n",
    "       '% Student Enrollment - Two or More Races', '% Student Enrollment - EL',\n",
    "       '% Student Enrollment - IEP', '% Student Enrollment - Low Income',\n",
    "       '% Student Enrollment - Homeless', 'Total Number of School Days',\n",
    "       'Student Attendance Rate', 'Student Mobility Rate',\n",
    "       'Student Mobility Rate - Male', 'Student Mobility Rate - Female',\n",
    "       'Student Mobility Rate - White',\n",
    "       'Student Mobility Rate - Black or African American',\n",
    "       'Student Mobility Rate - Hispanic or Latino',\n",
    "       'Student Mobility Rate - Asian',\n",
    "       'Student Mobility Rate - Native Hawaiian or Other Pacific Islander',\n",
    "       'Student Mobility Rate - American Indian or Alaska Native',\n",
    "       'Student Mobility Rate - Two or More Races',\n",
    "       'Student Mobility Rate - EL', 'Student Mobility Rate - IEP',\n",
    "       'Student Mobility Rate - Low Income', 'Chronically Truant Students',\n",
    "       'Student Chronic Truancy Rate', 'Avg Class Size – All Grades',\n",
    "       'Teacher Retention Rate', 'Principal Turnover within 6 Years',\n",
    "       'Chronic Absenteeism - White',\n",
    "       'Chronic Absenteeism - Black or African American',\n",
    "       'Chronic Absenteeism - Hispanic or Latino',\n",
    "       'Chronic Absenteeism - Asian',\n",
    "       'Chronic Absenteeism - Native Hawaiian or Other Pacific Islander',\n",
    "       'Chronic Absenteeism - American Indian or Alaska Native',\n",
    "       'Chronic Absenteeism - Two or More Races', 'Chronic Absenteeism - IEP',\n",
    "       'Chronic Absenteeism - EL', 'Chronic Absenteeism - Low Income',\n",
    "       'STUTERATIO', 'FTE',\n",
    "       'IPR_EST', '% ELA Proficiency', '% ELA Proficiency - Low Income',\n",
    "       '% Math Proficiency', '% Math Proficiency - Low Income', '% Local Property Taxes', '% General State Aid',\n",
    "       '% Federal Funding', '$ Instructional Expenditure per Pupil', 'Total Incidents', 'LATCOD', 'LONCOD']\n",
    "\n",
    "sy18_low_final = sy18_low_final[order]\n",
    "sy19_low_final = sy19_low_final[order]\n",
    "sy20_low_final = sy20_low_final[order]"
   ]
  },
  {
   "cell_type": "code",
   "execution_count": 48,
   "id": "77693afd-bc70-48c7-9fe1-c07fe45da479",
   "metadata": {},
   "outputs": [],
   "source": [
    "# stack dataframes for combine K-8 dataset\n",
    "df_lowerschool = pd.concat([sy18_low_final, sy19_low_final, sy20_low_final], axis=0)\n",
    "\n",
    "#export to csv\n",
    "df_lowerschool.to_csv('../Capstone/cleaned_datasets/cleaning/df_lowerschool.csv')"
   ]
  },
  {
   "cell_type": "markdown",
   "id": "020c2b02-5f98-4958-b55b-3fcd8731a758",
   "metadata": {},
   "source": [
    "# Pre-Train Test Split Data Cleaning"
   ]
  },
  {
   "cell_type": "code",
   "execution_count": 49,
   "id": "e6850600-dc13-471c-a58c-b5ca1877f7ba",
   "metadata": {},
   "outputs": [
    {
     "data": {
      "text/html": [
       "<div>\n",
       "<style scoped>\n",
       "    .dataframe tbody tr th:only-of-type {\n",
       "        vertical-align: middle;\n",
       "    }\n",
       "\n",
       "    .dataframe tbody tr th {\n",
       "        vertical-align: top;\n",
       "    }\n",
       "\n",
       "    .dataframe thead th {\n",
       "        text-align: right;\n",
       "    }\n",
       "</style>\n",
       "<table border=\"1\" class=\"dataframe\">\n",
       "  <thead>\n",
       "    <tr style=\"text-align: right;\">\n",
       "      <th></th>\n",
       "      <th>key</th>\n",
       "      <th>RCDTS</th>\n",
       "      <th>NCES ID</th>\n",
       "      <th>school_year</th>\n",
       "      <th>Type</th>\n",
       "      <th>school_type2</th>\n",
       "      <th>School Name</th>\n",
       "      <th>District</th>\n",
       "      <th>City</th>\n",
       "      <th>County</th>\n",
       "      <th>...</th>\n",
       "      <th>% ELA Proficiency - Low Income</th>\n",
       "      <th>% Math Proficiency</th>\n",
       "      <th>% Math Proficiency - Low Income</th>\n",
       "      <th>% Local Property Taxes</th>\n",
       "      <th>% General State Aid</th>\n",
       "      <th>% Federal Funding</th>\n",
       "      <th>$ Instructional Expenditure per Pupil</th>\n",
       "      <th>Total Incidents</th>\n",
       "      <th>LATCOD</th>\n",
       "      <th>LONCOD</th>\n",
       "    </tr>\n",
       "  </thead>\n",
       "  <tbody>\n",
       "    <tr>\n",
       "      <th>0</th>\n",
       "      <td>Payson CUSD 1_Seymour Elementary School</td>\n",
       "      <td>010010010262002</td>\n",
       "      <td>173099003225</td>\n",
       "      <td>17-18</td>\n",
       "      <td>School</td>\n",
       "      <td>Lower School</td>\n",
       "      <td>Seymour Elementary School</td>\n",
       "      <td>Payson CUSD 1</td>\n",
       "      <td>Payson</td>\n",
       "      <td>Adams</td>\n",
       "      <td>...</td>\n",
       "      <td>26.1</td>\n",
       "      <td>16.9</td>\n",
       "      <td>9.7</td>\n",
       "      <td>45.3</td>\n",
       "      <td>34.9</td>\n",
       "      <td>7.4</td>\n",
       "      <td>4539.49</td>\n",
       "      <td>13.0</td>\n",
       "      <td>39.818244</td>\n",
       "      <td>-91.248138</td>\n",
       "    </tr>\n",
       "    <tr>\n",
       "      <th>1</th>\n",
       "      <td>Liberty CUSD 2_Liberty Elementary School</td>\n",
       "      <td>010010020262002</td>\n",
       "      <td>172277002523</td>\n",
       "      <td>17-18</td>\n",
       "      <td>School</td>\n",
       "      <td>Lower School</td>\n",
       "      <td>Liberty Elementary School</td>\n",
       "      <td>Liberty CUSD 2</td>\n",
       "      <td>Liberty</td>\n",
       "      <td>Adams</td>\n",
       "      <td>...</td>\n",
       "      <td>27.9</td>\n",
       "      <td>46.9</td>\n",
       "      <td>27.9</td>\n",
       "      <td>41.1</td>\n",
       "      <td>35.4</td>\n",
       "      <td>5.5</td>\n",
       "      <td>5775.29</td>\n",
       "      <td>16.0</td>\n",
       "      <td>39.886170</td>\n",
       "      <td>-91.108112</td>\n",
       "    </tr>\n",
       "  </tbody>\n",
       "</table>\n",
       "<p>2 rows × 75 columns</p>\n",
       "</div>"
      ],
      "text/plain": [
       "                                        key            RCDTS       NCES ID  \\\n",
       "0   Payson CUSD 1_Seymour Elementary School  010010010262002  173099003225   \n",
       "1  Liberty CUSD 2_Liberty Elementary School  010010020262002  172277002523   \n",
       "\n",
       "  school_year    Type  school_type2                School Name  \\\n",
       "0       17-18  School  Lower School  Seymour Elementary School   \n",
       "1       17-18  School  Lower School  Liberty Elementary School   \n",
       "\n",
       "         District     City County  ... % ELA Proficiency - Low Income  \\\n",
       "0   Payson CUSD 1   Payson  Adams  ...                           26.1   \n",
       "1  Liberty CUSD 2  Liberty  Adams  ...                           27.9   \n",
       "\n",
       "  % Math Proficiency % Math Proficiency - Low Income % Local Property Taxes  \\\n",
       "0               16.9                             9.7                   45.3   \n",
       "1               46.9                            27.9                   41.1   \n",
       "\n",
       "   % General State Aid  % Federal Funding  \\\n",
       "0                 34.9                7.4   \n",
       "1                 35.4                5.5   \n",
       "\n",
       "  $ Instructional Expenditure per Pupil Total Incidents     LATCOD     LONCOD  \n",
       "0                               4539.49            13.0  39.818244 -91.248138  \n",
       "1                               5775.29            16.0  39.886170 -91.108112  \n",
       "\n",
       "[2 rows x 75 columns]"
      ]
     },
     "execution_count": 49,
     "metadata": {},
     "output_type": "execute_result"
    }
   ],
   "source": [
    "df_k8 = df_lowerschool.copy()\n",
    "df_k8.head(2)"
   ]
  },
  {
   "cell_type": "code",
   "execution_count": 50,
   "id": "ba7d8d73-88c5-4bd5-bac0-7d65e29aa581",
   "metadata": {},
   "outputs": [],
   "source": [
    "# Addressing Nulls that I can prior to the train-test-split - included in the function below\n",
    "# pd.DataFrame(df_k8.isna().sum()).sort_values(by=0, ascending=False)"
   ]
  },
  {
   "cell_type": "code",
   "execution_count": 51,
   "id": "1c643fcc-9a79-4a09-b2ff-ade451a8343f",
   "metadata": {},
   "outputs": [],
   "source": [
    "#renaming specific columns\n",
    "df_k8.rename(columns = {'stitlei': 'Title I Status',\n",
    "              'ulocale': 'Region Type',\n",
    "              'ipr_est': 'inc_to_pov_ratio'}, inplace=True)"
   ]
  },
  {
   "cell_type": "code",
   "execution_count": 52,
   "id": "235f3559-f69d-4f74-83bb-6707b815eda9",
   "metadata": {},
   "outputs": [],
   "source": [
    "#create a function to clean dataset\n",
    "\n",
    "def clean(df):\n",
    "    #drop columns that I decided to not need or have lots of nulls\n",
    "    df.drop(columns = ['District','School Name', 'City', 'Grades Served', 'Student Mobility Rate - Native Hawaiian or Other Pacific Islander',\n",
    "                      'Chronic Absenteeism - Native Hawaiian or Other Pacific Islander',\n",
    "                      'Chronic Absenteeism - American Indian or Alaska Native',\n",
    "                      'Student Mobility Rate - American Indian or Alaska Native',\n",
    "                       'key', 'Type', 'School Type', 'school_type2'], inplace=True)\n",
    "    \n",
    "    #cols to impute with 0\n",
    "    c = ['% Student Enrollment - White', '% Student Enrollment - Black or African American', '% Student Enrollment - Hispanic or Latino',\n",
    "         '% Student Enrollment - Asian', '% Student Enrollment - Native Hawaiian or Other Pacific Islander',\n",
    "         '% Student Enrollment - American Indian or Alaska Native',\n",
    "         '% Student Enrollment - Two or More Races',\n",
    "         '% Student Enrollment - EL', '% Student Enrollment - IEP',\n",
    "         '% Student Enrollment - Low Income', '% Student Enrollment - Homeless',\n",
    "         'Student Mobility Rate - White', 'Student Mobility Rate - Black or African American',\n",
    "         'Student Mobility Rate - Hispanic or Latino', 'Student Mobility Rate - Asian', 'Student Mobility Rate - Two or More Races',\n",
    "         'Student Mobility Rate - EL', 'Student Mobility Rate - IEP',\n",
    "         'Student Mobility Rate - Low Income', 'Chronic Absenteeism - White',\n",
    "         'Chronic Absenteeism - Black or African American', 'Chronic Absenteeism - Hispanic or Latino',\n",
    "         'Chronic Absenteeism - Asian','Chronic Absenteeism - Two or More Races',\n",
    "         'Chronic Absenteeism - IEP', 'Chronic Absenteeism - EL', 'Chronic Absenteeism - Low Income']\n",
    "    \n",
    "    df[c] = df[c].replace(np.nan, 0)\n",
    "    \n",
    "    #impute NaNs in this categorical/ordinal to 'Missing' value\n",
    "    df['STITLEI'] = df['STITLEI'].replace(np.nan, 'Missing')\n",
    "    \n",
    "    #convert ordinal variables into numeric\n",
    "    lst = {'Exemplary': 4, 'Commendable': 3, 'Targeted': 2, 'Comprehensive': 1}\n",
    "    \n",
    "    for k, v in lst.items():\n",
    "        df['Summative Designation'] = df['Summative Designation'].replace(k, v)\n",
    "    \n",
    "    #clean up column names\n",
    "    df_k8.rename(columns = {'STITLEI': 'Title I Status',\n",
    "              'ULOCALE': 'Region Type',\n",
    "              'IPR_EST': 'inc_to_pov_ratio'}, inplace=True)\n",
    "    \n",
    "    df = df.rename(columns=str.lower)\n",
    "    df.columns = df.columns.str.replace(' - ', ' ')\n",
    "    df.columns = df.columns.str.replace(' – ', ' ') \n",
    "    df.columns = df.columns.str.replace('-', '')\n",
    "    df.columns = df.columns.str.replace(' ', '_')\n",
    "    \n",
    "    \n",
    "    return df"
   ]
  },
  {
   "cell_type": "code",
   "execution_count": 53,
   "id": "a6bf8af0-6b4c-48c1-a0b9-ade2337d263e",
   "metadata": {},
   "outputs": [],
   "source": [
    "df_k8 = clean(df_k8)"
   ]
  },
  {
   "cell_type": "code",
   "execution_count": 54,
   "id": "54ae96aa-67c9-4986-ab9e-084e1804e390",
   "metadata": {},
   "outputs": [],
   "source": [
    "#export df for preprocessing & feature engineering\n",
    "# df_k8.to_csv('../Capstone/cleaned_datasets/pre-processing/df_k8.csv')"
   ]
  }
 ],
 "metadata": {
  "kernelspec": {
   "display_name": "Python (capstone)",
   "language": "python",
   "name": "capstone"
  },
  "language_info": {
   "codemirror_mode": {
    "name": "ipython",
    "version": 3
   },
   "file_extension": ".py",
   "mimetype": "text/x-python",
   "name": "python",
   "nbconvert_exporter": "python",
   "pygments_lexer": "ipython3",
   "version": "3.9.15"
  }
 },
 "nbformat": 4,
 "nbformat_minor": 5
}
